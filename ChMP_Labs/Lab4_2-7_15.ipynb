{
 "cells": [
  {
   "cell_type": "code",
   "execution_count": 16,
   "metadata": {},
   "outputs": [
    {
     "name": "stdout",
     "output_type": "stream",
     "text": [
      "[[ 7 12 15]\n",
      " [ 0  7 12]\n",
      " [ 0  0  7]] \n",
      " - \n",
      " [[ 7 12 15]\n",
      " [ 0  7 12]\n",
      " [ 0  0  7]] \n",
      " = \n",
      " [[0 0 0]\n",
      " [0 0 0]\n",
      " [0 0 0]]\n"
     ]
    }
   ],
   "source": [
    "# task 1.1\n",
    "import numpy as np\n",
    "A = np.array([[1, 1, 1], [0, 1, 1], [0, 0, 1]])\n",
    "B = np.array([[7, 5, 3], [0, 7, 5], [0, 0, 7]])\n",
    "AB = A.dot(B)\n",
    "BA = B.dot(A)\n",
    "C=AB-BA\n",
    "print(AB,'\\n','-','\\n',BA,'\\n','=' ,'\\n',C)"
   ]
  },
  {
   "cell_type": "code",
   "execution_count": 31,
   "metadata": {},
   "outputs": [
    {
     "name": "stdout",
     "output_type": "stream",
     "text": [
      "[[ 1.  0.  0.  0.]\n",
      " [ 0.  4.  0.  0.]\n",
      " [ 0.  0.  9.  0.]\n",
      " [ 0.  0.  0. 16.]]\n"
     ]
    }
   ],
   "source": [
    "# task 1.2\n",
    "a=float(input());b=float(input());c=float(input());d=float(input())\n",
    "A = np.array([[a,0,0,0], [0,b,0,0], [0,0,c,0], [0,0,0,d]])\n",
    "print(A.dot(A))"
   ]
  },
  {
   "cell_type": "code",
   "execution_count": 30,
   "metadata": {},
   "outputs": [
    {
     "name": "stdout",
     "output_type": "stream",
     "text": [
      "[[ 12   0  -6   9   3]\n",
      " [  4   0  -2   3   1]\n",
      " [ -4   0   2  -3  -1]\n",
      " [ 20   0 -10  15   5]\n",
      " [  8   0  -4   6   2]]\n"
     ]
    }
   ],
   "source": [
    "# task 1.3\n",
    "A = np.array([[3], [1], [-1], [5], [2]])\n",
    "B = np.array([[4, 0, -2,3,1]])\n",
    "print(A.dot(B))"
   ]
  },
  {
   "cell_type": "code",
   "execution_count": 29,
   "metadata": {},
   "outputs": [
    {
     "name": "stdout",
     "output_type": "stream",
     "text": [
      "200\n"
     ]
    }
   ],
   "source": [
    "# task 1.4\n",
    "A = np.array([[1,5,-5], [4,0,3], [2,-10,3]])\n",
    "print(format(np.linalg.det(A), '.9g'))"
   ]
  },
  {
   "cell_type": "code",
   "execution_count": 33,
   "metadata": {},
   "outputs": [
    {
     "name": "stdout",
     "output_type": "stream",
     "text": [
      "-24\n"
     ]
    }
   ],
   "source": [
    "# task 1.5\n",
    "A = np.array([[1,2,0,0,0], [1,0,2,0,0], [1,0,0,2,0], [1,0,0,0,2], [0,0,1,1,1]])\n",
    "print(format(np.linalg.det(A), '.9g'))"
   ]
  },
  {
   "cell_type": "code",
   "execution_count": 34,
   "metadata": {},
   "outputs": [
    {
     "name": "stdout",
     "output_type": "stream",
     "text": [
      "[[ 0.25  0.25  0.25  0.25]\n",
      " [ 0.25  0.25 -0.25 -0.25]\n",
      " [ 0.25 -0.25  0.25 -0.25]\n",
      " [ 0.25 -0.25 -0.25  0.25]]\n"
     ]
    }
   ],
   "source": [
    "# task 1.6\n",
    "A = np.array([[1,1,1,1], [1,1,-1,-1], [1,-1,1,-1], [1,-1,-1,1]])\n",
    "print(np.linalg.inv(A))"
   ]
  },
  {
   "cell_type": "code",
   "execution_count": 173,
   "metadata": {},
   "outputs": [
    {
     "name": "stdout",
     "output_type": "stream",
     "text": [
      "3\n"
     ]
    }
   ],
   "source": [
    "# task 1.7\n",
    "A = np.array([[-2,3,1,-1], [3,2,1,4], [1,2,3,4], [0,2,3,3]])\n",
    "print(np.linalg.matrix_rank(A))"
   ]
  },
  {
   "cell_type": "code",
   "execution_count": 172,
   "metadata": {},
   "outputs": [
    {
     "name": "stdout",
     "output_type": "stream",
     "text": [
      "[0.0, -1.0, 2.0]\n"
     ]
    }
   ],
   "source": [
    "# task 1.8.1 Kramer\n",
    "def det(n):\n",
    "    d=n[0,0]*n[1,1]*n[2,2]+n[0,1]*n[1,2]*n[2,0]+n[1,0]*n[2,1]*n[0,2]-n[0,2]*n[1,1]*n[2,0]-n[0,1]*n[1,0]*n[2,2]-n[1,2]*n[2,1]*n[0,0]\n",
    "    return d\n",
    "A = np.matrix('1 -2 1;2 -1 1;3 2 2')\n",
    "B = np.matrix('4;3;2')\n",
    "def method_1(a,b):\n",
    "    di=[0,0,0]\n",
    "    X=[0,0,0]\n",
    "    d=det(a)\n",
    "    A_1=np.matrix(a)\n",
    "    for j in range(0,3):\n",
    "        for i in range(0,3):\n",
    "            A_1[i,j]=B[i]\n",
    "        di[j]=det(A_1)\n",
    "        X[j]=di[j]/d\n",
    "        A_1=np.matrix(a)\n",
    "        \n",
    "    return X\n",
    "print(method_1(A,B))\n"
   ]
  },
  {
   "cell_type": "code",
   "execution_count": 171,
   "metadata": {},
   "outputs": [
    {
     "name": "stdout",
     "output_type": "stream",
     "text": [
      "x= 0\n",
      "y= [[-1.]]\n",
      "z= [[2.]]\n"
     ]
    }
   ],
   "source": [
    "# task 1.8.1 checking\n",
    "a = np.matrix('1. -2. 1.;2. -1. 1.;3. 2. 2.')\n",
    "b = np.matrix('4.;3.;2.')\n",
    "x = np.linalg.solve(a,b)\n",
    "print('x=',int(x[0])) # Коли х = 0 виводить велике число\n",
    "print('y=',x[1])\n",
    "print('z=',x[2])\n"
   ]
  },
  {
   "cell_type": "code",
   "execution_count": 170,
   "metadata": {},
   "outputs": [
    {
     "name": "stdout",
     "output_type": "stream",
     "text": [
      "x= 0\n",
      "y= [[-1.]]\n",
      "z= [[2.]]\n"
     ]
    }
   ],
   "source": [
    "# task 1.8.2 Matrix\n",
    "a = np.matrix('1 -2 1;2 -1 1;3 2 2')\n",
    "b = np.matrix('4;3;2')\n",
    "X=[0,0,0]\n",
    "def method_2(a,b):\n",
    "    x=np.linalg.inv(a).dot(b)\n",
    "    return (x)\n",
    "X = method_2(a,b)\n",
    "print('x=',int(X[0])) # Коли х = 0 виводить велике число\n",
    "print('y=',X[1])\n",
    "print('z=',X[2])"
   ]
  },
  {
   "cell_type": "code",
   "execution_count": 222,
   "metadata": {},
   "outputs": [
    {
     "name": "stdout",
     "output_type": "stream",
     "text": [
      "   6   0   4\n",
      "   3   2   5\n",
      "Average values ​​of the columns [4.5, 1.0, 4.5]\n",
      "Average values ​​of rows [3.3333333333333335, 3.3333333333333335]\n"
     ]
    }
   ],
   "source": [
    "# task 2 (without numpy)\n",
    "from random import randint\n",
    "def printMatrix( A ):\n",
    "     for i in range(len(A)): \n",
    "        for j in range(len(A[i])): \n",
    "            print( \"{:4d}\".format(A[i][j]), end=\"\" ) \n",
    "        print()\n",
    "N=int(input());M=int(input())\n",
    "s_c=[ [0] for j in range(M) ]\n",
    "s_r=[ [0] for i in range(N)]\n",
    "summ_c1=float(0)\n",
    "summ_r1=float(0)\n",
    "\n",
    "A = [ [0]*M for i in range(N) ]\n",
    "for i in range(N):  \n",
    "    for j in range(M): \n",
    "        A[i][j] = randint( 0, 10 ) # Підбір випадкових чисел від 0 до 10\n",
    "        x=float(A[i][j])\n",
    "       \n",
    "        summ_r1 += x   # Середні значення стобців\n",
    "    s_r[i]=summ_r1/M\n",
    "    summ_r1=0\n",
    "for j in range(M):\n",
    "     for i in range(N):\n",
    "        x=A[i][j]\n",
    "       \n",
    "        summ_c1 += x   # Середні значення рядків\n",
    "     s_c[j]=summ_c1/N\n",
    "     summ_c1=0\n",
    "    \n",
    "\n",
    "\n",
    "\n",
    "printMatrix( A )\n",
    "print('Average values ​​of the columns = ',s_c )\n",
    "print('Average values ​​of rows= ',s_r )\n",
    "\n",
    "\n"
   ]
  }
 ],
 "metadata": {
  "kernelspec": {
   "display_name": "Python 3.10.6 64-bit",
   "language": "python",
   "name": "python3"
  },
  "language_info": {
   "codemirror_mode": {
    "name": "ipython",
    "version": 3
   },
   "file_extension": ".py",
   "mimetype": "text/x-python",
   "name": "python",
   "nbconvert_exporter": "python",
   "pygments_lexer": "ipython3",
   "version": "3.10.6"
  },
  "orig_nbformat": 4,
  "vscode": {
   "interpreter": {
    "hash": "5ab66c09071a49dd4a5d8e121dbd466e8747126f616e23bb0ee0b6d95e45f89c"
   }
  }
 },
 "nbformat": 4,
 "nbformat_minor": 2
}
