{
 "cells": [
  {
   "cell_type": "code",
   "execution_count": 28,
   "metadata": {},
   "outputs": [
    {
     "name": "stdout",
     "output_type": "stream",
     "text": [
      "Trapetzia method: -0.43487\n",
      "Check =  -0.43486\n"
     ]
    }
   ],
   "source": [
    "from scipy import integrate \n",
    "import math\n",
    "eps = 0.001\n",
    "def f1(x): \n",
    "    return 1/math.sqrt(x+4) \n",
    "\n",
    "def Trapetzia(f1,a,b,n): \n",
    "    h=(b-a)/n \n",
    "    sum=0.5*(f1(a)+f1(b)) \n",
    "    for i in range(1,n): \n",
    "        sum=sum+f1(a+i*h)\n",
    "    integrat=sum*h\n",
    "    return integrat\n",
    "\n",
    "if abs (Trapetzia(f1, 1.8, 0.8, 10*2) -Trapetzia(f1, 1.8, 0.8, 10))/3. <= eps: \n",
    "    print(\"Trapetzia method:\",round (Trapetzia(f1,1.8,0.8,10), 5)) \n",
    "v,err = integrate.quad(f1,1.8,0.8)\n",
    "print(\"Check = \",round(v, 5)) \n"
   ]
  },
  {
   "cell_type": "code",
   "execution_count": 29,
   "metadata": {},
   "outputs": [
    {
     "name": "stdout",
     "output_type": "stream",
     "text": [
      "left rectangle: -0.30559\n",
      "average rectangle: -0.12716\n",
      "right rectangle: -0.37018\n",
      "Check= -0.33832\n"
     ]
    }
   ],
   "source": [
    "def f2(x): \n",
    "    return math.cos(x**2)/(x+1)\n",
    "\n",
    "def left(f2,a,b,n): \n",
    "    h=(b-a)/n \n",
    "    sum=0 \n",
    "    for i in range(0,n): \n",
    "        sum=sum+f2(a+i*h) \n",
    "    integrat=sum*h\n",
    "    return integrat\n",
    "\n",
    "def midd(f2,a,b,n): \n",
    "    h=0.08 \n",
    "    sum=0 \n",
    "    for i in range(0,n): \n",
    "        sum=sum+f2(a+i*h) \n",
    "    integrat=sum*h\n",
    "    return integrat \n",
    "\n",
    "def right(f2,a,b,n): \n",
    "    h=(b-a)/n \n",
    "    sum=0 \n",
    "    for i in range(1,n+1): \n",
    "        sum=sum+f2(a+i*h) \n",
    "    integrat=sum*h\n",
    "    return integrat\n",
    "print(\"left rectangle:\",round (left(f2,1.2,0.4,8), 5)) \n",
    "print(\"average rectangle:\",round (midd(f2,1.2,0.4,8), 5)) \n",
    "print(\"right rectangle:\",round (right(f2,1.2,0.4,8), 5)) \n",
    "v,err = integrate.quad(f2,1.2,0.4)\n",
    "\n",
    "print(\"Check=\",round (v, 5))\n"
   ]
  },
  {
   "cell_type": "code",
   "execution_count": 32,
   "metadata": {},
   "outputs": [
    {
     "name": "stdout",
     "output_type": "stream",
     "text": [
      "Simpsone method: -0.24319\n",
      "Check =  -0.24319\n"
     ]
    }
   ],
   "source": [
    "def f3(x): \n",
    "    return 1/math.sqrt(x**2+2.5)\n",
    "\n",
    "def simpson(a,b,n): \n",
    "    h = (b - a) / n \n",
    "    integrat = f3(a) + f3(b) \n",
    "    for i in range(1,n): \n",
    "        k = a + i*h \n",
    "        if i%2 == 0: \n",
    "            integrat =integrat + 2 * f3(k) \n",
    "        else: \n",
    "            integrat =integrat + 4 * f3(k) \n",
    "    integrat = integrat * h/3 \n",
    "    return integrat \n",
    "\n",
    "if abs(simpson(2.2,1.6,2*20) -simpson(2.2,1.6,20))/ 15. <= eps: \n",
    "   print(\"Simpsone method:\",round (simpson(2.2,1.6,20), 5)) \n",
    "v,err = integrate.quad(f3,2.2,1.6)\n",
    "print(\"Check = \",round(v, 5)) \n"
   ]
  }
 ],
 "metadata": {
  "kernelspec": {
   "display_name": "Python 3.10.6 64-bit",
   "language": "python",
   "name": "python3"
  },
  "language_info": {
   "codemirror_mode": {
    "name": "ipython",
    "version": 3
   },
   "file_extension": ".py",
   "mimetype": "text/x-python",
   "name": "python",
   "nbconvert_exporter": "python",
   "pygments_lexer": "ipython3",
   "version": "3.10.6"
  },
  "orig_nbformat": 4,
  "vscode": {
   "interpreter": {
    "hash": "5ab66c09071a49dd4a5d8e121dbd466e8747126f616e23bb0ee0b6d95e45f89c"
   }
  }
 },
 "nbformat": 4,
 "nbformat_minor": 2
}
