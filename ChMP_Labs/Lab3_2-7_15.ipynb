{
 "cells": [
  {
   "cell_type": "code",
   "execution_count": 1,
   "metadata": {},
   "outputs": [
    {
     "name": "stdout",
     "output_type": "stream",
     "text": [
      "3.404578\n",
      "-0.410766\n"
     ]
    }
   ],
   "source": [
    "#Newton's method\n",
    "def f(x):\n",
    "    return 3*pow(x,4)-10*pow(x,3)+pow(x,2)-5*x-3\n",
    "from scipy.misc import derivative\n",
    "a=-0.5\n",
    "b=4\n",
    "eps=0.0001\n",
    "def method_3(a,b,eps):\n",
    "    f_0=f(b)\n",
    "    f_2=derivative(f, b, n = 2)\n",
    "    if f_0*f_2>0:\n",
    "        x=b\n",
    "    else:\n",
    "        x=a\n",
    "    f_0=f(x)\n",
    "    f_1=derivative(f, x, n = 1)\n",
    "    h=f_0/f_1\n",
    "    x=x-h\n",
    "    while abs(h)>eps:\n",
    "        f_0=f(x)\n",
    "        f_1=derivative(f, x, n = 1)\n",
    "        h=f_0/f_1\n",
    "        x=x-h\n",
    "    print(round(x,6))\n",
    "    \n",
    "    \n",
    "method_3(a,b,eps)\n",
    "method_3(b,a,eps)    "
   ]
  },
  {
   "cell_type": "code",
   "execution_count": 112,
   "metadata": {},
   "outputs": [
    {
     "name": "stdout",
     "output_type": "stream",
     "text": [
      "-0.410633\n",
      "3.404567\n"
     ]
    }
   ],
   "source": [
    "#Combined method\n",
    "eps=0.0001\n",
    "def method_4(a,b,eps):\n",
    "    if derivative(f, a, n = 1)*derivative(f, a, n = 2)>0:\n",
    "        a1=b\n",
    "        b1=a \n",
    "    else:\n",
    "        a1=a\n",
    "        b1=b \n",
    "    x_a=a1\n",
    "    x_b=b1\n",
    "    while(x_b-x_a)>eps:\n",
    "        xn1=x_a-f(x_a)*(x_b-x_a)/(f(x_b)-f(x_a))\n",
    "        xn2=x_b-f(x_b)/derivative(f, x_b, n = 1)\n",
    "        x_a=xn1\n",
    "        x_b=xn2 \n",
    "    x=(x_a+x_b)/2\n",
    "    print(round(x,6))\n",
    "method_4(-0.5,1,eps)\n",
    "method_4(2,4,eps)\n"
   ]
  }
 ],
 "metadata": {
  "kernelspec": {
   "display_name": "Python 3.10.6 64-bit",
   "language": "python",
   "name": "python3"
  },
  "language_info": {
   "codemirror_mode": {
    "name": "ipython",
    "version": 3
   },
   "file_extension": ".py",
   "mimetype": "text/x-python",
   "name": "python",
   "nbconvert_exporter": "python",
   "pygments_lexer": "ipython3",
   "version": "3.10.6"
  },
  "orig_nbformat": 4,
  "vscode": {
   "interpreter": {
    "hash": "5ab66c09071a49dd4a5d8e121dbd466e8747126f616e23bb0ee0b6d95e45f89c"
   }
  }
 },
 "nbformat": 4,
 "nbformat_minor": 2
}
