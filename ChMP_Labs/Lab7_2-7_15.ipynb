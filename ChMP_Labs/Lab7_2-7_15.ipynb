{
 "cells": [
  {
   "cell_type": "code",
   "execution_count": 33,
   "metadata": {},
   "outputs": [
    {
     "name": "stdout",
     "output_type": "stream",
     "text": [
      "Table of values of a function:\n",
      "\tX \t| \tY\n",
      "---------------------------\n",
      "\t 2.4 \t| \t 3.526 \n",
      "\n",
      "\t 2.6 \t| \t 3.782 \n",
      "\n",
      "\t 2.8 \t| \t 3.945 \n",
      "\n",
      "\t 3.0 \t| \t 4.043 \n",
      "\n",
      "\t 3.2 \t| \t 4.104 \n",
      "\n",
      "\t 3.4 \t| \t 4.155 \n",
      "\n",
      "\t 3.6 \t| \t 4.222 \n",
      "\n",
      "\t 3.8 \t| \t 4.331 \n",
      "\n",
      "\t 4.0 \t| \t 4.507 \n",
      "\n",
      "\t 4.2 \t| \t 4.775 \n",
      "\n",
      "\t 4.4 \t| \t 5.159 \n",
      "\n",
      "\t 4.6 \t| \t 5.683 \n",
      "\n",
      "Enter  value X: \n",
      "First derivative = 1.0254166666666604\n",
      "Second derivative = -2.3479166666665954\n"
     ]
    }
   ],
   "source": [
    "\n",
    "X= [ 2.4, 2.6, 2.8, 3.0, 3.2, 3.4, 3.6, 3.8, 4.0, 4.2, 4.4, 4.6]\n",
    "Y= [3.526, 3.782, 3.945, 4.043, 4.104, 4.155, 4.222, 4.331, 4.507, 4.775, 5.159, 5.683]\n",
    "N=12\n",
    "y1=[0 for i in range(N)]\n",
    "y2=[0 for i in range(N-1)]\n",
    "y3=[0 for i in range(N-2)]\n",
    "y4=[0 for i in range(N-3)]\n",
    "y5=[0 for i in range(N-4)]\n",
    "print(\"Table of values of a function:\" )\n",
    "print(\"\\tX\",\"\\t|\",\"\\tY\")\n",
    "print(\"---------------------------\")\n",
    "\n",
    "for i in range(0,N):\n",
    "   print(\"\\t\",X[i],\"\\t|\",\"\\t\",Y[i],\"\\n\") \n",
    "print(\"Enter  value X: \" )\n",
    "xx=float(input())\n",
    "h=0.\n",
    "i=1\n",
    "t=0.\n",
    "k=0\n",
    "h=X[i]-X[i-1]\n",
    "t=(xx-X[i-1])/h\n",
    "for j in range(1,N):\n",
    "    y1[k]=Y[j]-Y[j-1]\n",
    "    k+=1\n",
    "k=0\n",
    "for j in range(1,N-1):\n",
    "    y2[k]=y1[j]-y1[j-1]\n",
    "    k+=1\n",
    "k=0\n",
    "for j in range(1,N-2):\n",
    "    y3[k]=y2[j]-y2[j-1]\n",
    "    k+=1\n",
    "k=0\n",
    "for j in range(1,N-3):\n",
    "    y4[k]=y3[j]-y3[j-1]\n",
    "    k+=1\n",
    "k=0  \n",
    "for j in range(1,N-4):\n",
    "    y5[k]=y4[j]-y4[j-1]\n",
    "    k+=1  \n",
    "k=0 \n",
    "\n",
    "g = 1/ h * (y1[1] - (y2[1]/ 2) + (y3[1] /3) - (y4[1]/4))\n",
    "l = 1/ (h**2) * (y2[1] - y3[1] + 11/12*y4[1])\n",
    "print ('First derivative =', g)\n",
    "print ('Second derivative =', l)\n",
    "\n",
    "\n"
   ]
  },
  {
   "cell_type": "code",
   "execution_count": 34,
   "metadata": {},
   "outputs": [
    {
     "name": "stdout",
     "output_type": "stream",
     "text": [
      "X=  2.45\n",
      "Y' =  1.4120851236979184\n",
      "Y\" =  -2.838606770833417\n"
     ]
    }
   ],
   "source": [
    "print(\"X= \",xx)\n",
    "G=(y1[0]+y2[0]*(2*t-1)/2+y3[0]*(3*t*t-6*t+2)/6+y4[0]*(4*t*t*t-18*t*t+22*t-6)/24+y5[0]*(5*t*t*t*t-40*t*t*t+105*t*t-100*t+24)/120)/h;\n",
    "print(\"Y' = \",G)\n",
    "L=(y2[0]+y3[0]*(t-1)+y4[0]*(12*t*t-36*t+22)/24+y5[0]*(20*t*t*t-120*t*t+ 210*t-100)/120)/(h*h);\n",
    "print(\"Y\\\" = \",L)"
   ]
  }
 ],
 "metadata": {
  "kernelspec": {
   "display_name": "Python 3.10.6 64-bit",
   "language": "python",
   "name": "python3"
  },
  "language_info": {
   "codemirror_mode": {
    "name": "ipython",
    "version": 3
   },
   "file_extension": ".py",
   "mimetype": "text/x-python",
   "name": "python",
   "nbconvert_exporter": "python",
   "pygments_lexer": "ipython3",
   "version": "3.10.6"
  },
  "orig_nbformat": 4,
  "vscode": {
   "interpreter": {
    "hash": "5ab66c09071a49dd4a5d8e121dbd466e8747126f616e23bb0ee0b6d95e45f89c"
   }
  }
 },
 "nbformat": 4,
 "nbformat_minor": 2
}
