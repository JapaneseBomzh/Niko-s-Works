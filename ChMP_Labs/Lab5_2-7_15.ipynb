{
 "cells": [
  {
   "cell_type": "code",
   "execution_count": 176,
   "id": "d97498bf",
   "metadata": {},
   "outputs": [
    {
     "name": "stdout",
     "output_type": "stream",
     "text": [
      "Simple iteration:\n",
      "x= 0.5365583437808676 \n",
      "y= -0.13839054943332862 \n",
      "The amount of iteration =  9\n"
     ]
    }
   ],
   "source": [
    "import numpy as np\n",
    "from scipy import optimize\n",
    "from scipy.misc import derivative\n",
    "from math import sin,cos\n",
    "\n",
    "x0 = -0.13\n",
    "y0 = 0.5\n",
    "delta = 0.1\n",
    "\n",
    "def f1(y):\n",
    "    return sin(y+0.5)-1\n",
    "def f2(x):\n",
    "    return -cos(x - 2) \n",
    "df1_x0 = abs(derivative(f1,x0 +delta,n=1)) #Обчислюємо модулі похідних\n",
    "df2_x0 = abs(derivative(f2,x0 + delta,n=1))\n",
    "df1_y0 = abs(derivative(f1,y0 + delta,n=1)) \n",
    "df2_y0 = abs(derivative(f2,y0 + delta,n=1))  \n",
    "    \n",
    "\n",
    "\n",
    "def iter(x,y,e):\n",
    "        xn = x\n",
    "        yn = y\n",
    "        xn1 = f2(x)\n",
    "        yn1 = f1(y)\n",
    "        n = 1\n",
    "        while ((abs(xn1-xn)>=e) & (abs(yn1-yn) >=e)):\n",
    "            xn = xn1\n",
    "            yn = yn1\n",
    "            xn1 = f2(yn)\n",
    "            yn1 = f1(xn)\n",
    "            n += 1\n",
    "        print ('Simple iteration:')\n",
    "        print ('x=', xn, '\\ny=',yn,'\\nThe amount of iteration = ',n)\n",
    "iter(x0,y0,0.001)\n",
    "\n",
    "\n",
    "\n"
   ]
  },
  {
   "cell_type": "code",
   "execution_count": 169,
   "id": "7836bd59",
   "metadata": {},
   "outputs": [
    {
     "name": "stdout",
     "output_type": "stream",
     "text": [
      "Chek [-0.13868456  0.53785311]\n"
     ]
    }
   ],
   "source": [
    "def f3(x): \n",
    "    return sin(x[1]+0.5)-x[0]-1, cos(x[0]-2)+x[1]\n",
    "R = optimize.root(f3, [0.,0.], method = 'Krylov') \n",
    "print ('Chek',R.x)"
   ]
  }
 ],
 "metadata": {
  "kernelspec": {
   "display_name": "Python 3.10.6 64-bit",
   "language": "python",
   "name": "python3"
  },
  "language_info": {
   "codemirror_mode": {
    "name": "ipython",
    "version": 3
   },
   "file_extension": ".py",
   "mimetype": "text/x-python",
   "name": "python",
   "nbconvert_exporter": "python",
   "pygments_lexer": "ipython3",
   "version": "3.10.6"
  },
  "vscode": {
   "interpreter": {
    "hash": "5ab66c09071a49dd4a5d8e121dbd466e8747126f616e23bb0ee0b6d95e45f89c"
   }
  }
 },
 "nbformat": 4,
 "nbformat_minor": 5
}
